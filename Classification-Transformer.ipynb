{
 "metadata": {
  "language_info": {
   "codemirror_mode": {
    "name": "ipython",
    "version": 3
   },
   "file_extension": ".py",
   "mimetype": "text/x-python",
   "name": "python",
   "nbconvert_exporter": "python",
   "pygments_lexer": "ipython3",
   "version": "3.7.7-final"
  },
  "orig_nbformat": 2,
  "kernelspec": {
   "name": "python_defaultSpec_1600371693508",
   "display_name": "Python 3.7.7 64-bit ('py37': conda)"
  }
 },
 "nbformat": 4,
 "nbformat_minor": 2,
 "cells": [
  {
   "cell_type": "code",
   "execution_count": 1,
   "metadata": {},
   "outputs": [],
   "source": [
    "from torchtext.vocab import GloVe\n",
    "embedding_glove = GloVe(name='6B', dim=50)"
   ]
  },
  {
   "source": [
    "# Self-Attention"
   ],
   "cell_type": "markdown",
   "metadata": {}
  },
  {
   "cell_type": "code",
   "execution_count": 2,
   "metadata": {},
   "outputs": [],
   "source": [
    "import torch\n",
    "from torch import nn\n",
    "import torch.nn.functional as F"
   ]
  },
  {
   "cell_type": "code",
   "execution_count": null,
   "metadata": {},
   "outputs": [],
   "source": [
    "class SelfAttention(nn.Module):\n",
    "    def __init__(self, num_heads, num_dim):\n",
    "        super.__init__()\n",
    "\n",
    "        self.num_heads = num_heads\n",
    "        self.num_dim = num_dim\n",
    "\n",
    "        self.toqueries = nn.Linear(self.num_dim, self.num_heads*self.num_dim, bias=False)\n",
    "        self.tokeys = nn.Linear(self.num_dim, self.num_heads*self.num_dim, bias=False)\n",
    "        self.tovalues = nn.Linear(self.num_dim, self.num_heads*self.num_dim, bias=False)\n",
    "        self.unify_heads = nn.Linear(self.num_heads*self.num_dim, self.num_dim)\n",
    "\n",
    "    def forward(self, x):\n",
    "        num_batch, num_words, num_dim = x.shape\n",
    "        num_heads = self.num_heads\n",
    "\n",
    "        queries = self.toqueries(x).view(num_batch, num_words, num_heads, num_dim)\n",
    "        keys = self.tokeys(x).view(num_batch, num_words, num_heads, num_dim)\n",
    "        values = self.tovalues(x).view(num_batch, num_words, num_heads, num_dim)\n",
    "\n",
    "        queries = queries.transpose(1, 2).contiguous().view(num_batch*num_heads, num_words, num_dim)\n",
    "        keys = keys.transpose(1, 2).contiguous().view(num_batch*num_heads, num_words, num_dim)\n",
    "        values = values.transpose(1, 2).contiguous().view(num_batch*num_heads, num_words, num_dim)\n",
    "\n",
    "        queries = queries/(num_dim**(1/4))\n",
    "        keys = keys/(num_dim**(1/4))\n",
    "\n",
    "        raw_weights = torch.bmm(queries, keys.transpose(1, 2))\n",
    "        weights = torch.softmax(raw_weights, dim=2)\n",
    "\n",
    "        out = torch.bmm(weights, values).view(num_batch, num_heads, num_words, num_dim)\n",
    "        out = out.transpose(1, 2).contiguous().view(num_batch, num_words, num_heads*num_dim)\n",
    "\n",
    "        out = self.unify_heads(out)\n",
    "        return out"
   ]
  },
  {
   "source": [
    "# Transformer Block"
   ],
   "cell_type": "markdown",
   "metadata": {}
  },
  {
   "cell_type": "code",
   "execution_count": null,
   "metadata": {},
   "outputs": [],
   "source": [
    "class Transformer(nn.Module):\n",
    "    def __init__(self, num_dim):\n",
    "        super.__init__()\n",
    "        \n",
    "        self.num_heads = 8\n",
    "        self.num_dim = num_dim\n",
    "        self.sa = SelfAttention(self.num_heads, self.num_dim)\n",
    "        self.norm1 = nn.LayerNorm(self.num_dim)\n",
    "        self.mlp = nn.Sequential(\n",
    "                        nn.Linear(self.num_dim, 4*self.num_dim),\n",
    "                        nn.ReLU(),\n",
    "                        nn.Linear(4*self.num_dim, self.num_dim)\n",
    "                        )\n",
    "        self.norm2 = nn.LayerNorm(self.num_dim)\n",
    "\n",
    "    def forward(self, x):\n",
    "        out1 = sa(x)\n",
    "        out2 = norm1(out1+x)\n",
    "        out3 = mlp(out2)\n",
    "        final = norm2(out3+out2)\n",
    "        return final"
   ]
  },
  {
   "source": [
    "# IMDB data pre-processing"
   ],
   "cell_type": "markdown",
   "metadata": {}
  },
  {
   "source": [
    "# Classification Transformer\n",
    "![image](http://peterbloem.nl/files/transformers/classifier.svg)"
   ],
   "cell_type": "markdown",
   "metadata": {}
  },
  {
   "cell_type": "code",
   "execution_count": null,
   "metadata": {},
   "outputs": [],
   "source": []
  }
 ]
}